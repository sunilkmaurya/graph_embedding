{
 "cells": [
  {
   "cell_type": "code",
   "execution_count": 23,
   "metadata": {},
   "outputs": [],
   "source": [
    "#this part is to load all embeddings and do the analysis\n",
    "#of what types of nodes are identified wrong with the learning\n",
    "#algorithms\n",
    "\n",
    "import numpy as np\n",
    "import pickle\n",
    "import networkx as nx\n",
    "\n",
    "from prettytable import PrettyTable\n",
    "emb_location = './../generated_embedding/'\n",
    "graph_location = './../data/'\n",
    "import umap\n",
    "\n",
    "from gensim.models import KeyedVectors\n"
   ]
  },
  {
   "cell_type": "code",
   "execution_count": 3,
   "metadata": {},
   "outputs": [
    {
     "name": "stdout",
     "output_type": "stream",
     "text": [
      "Embedding Creation\n",
      "Embedding created\n",
      "./../data/\n"
     ]
    },
    {
     "name": "stderr",
     "output_type": "stream",
     "text": [
      "/home/sunil/anaconda3/envs/env1/lib/python3.6/site-packages/sklearn/metrics/classification.py:1137: UndefinedMetricWarning: F-score is ill-defined and being set to 0.0 in labels with no true samples.\n",
      "  'recall', 'true', average, warn_for)\n"
     ]
    },
    {
     "name": "stdout",
     "output_type": "stream",
     "text": [
      "file saved\n",
      "file saved\n",
      "file saved\n",
      "Embedding dim: 128, graph: citeseer\n",
      "\n",
      "Run number 1:\n",
      "Train ratio: 0.9\n",
      "micro: 0.22822822822822822\n",
      "macro: 0.1538856148947892\n",
      "samples: 0.22822822822822822\n",
      "weighted: 0.25195363345210436\n",
      "Accuracy: 0.22822822822822822\n",
      "Train ratio: 0.5\n",
      "micro: 0.20853365384615385\n",
      "macro: 0.137411632094467\n",
      "samples: 0.20853365384615385\n",
      "weighted: 0.2314760128743707\n",
      "Accuracy: 0.20853365384615385\n",
      "Train ratio: 0.09999999999999998\n",
      "micro: 0.20934891485809684\n",
      "macro: 0.14497122664629974\n",
      "samples: 0.20934891485809684\n",
      "weighted: 0.2261813028933798\n",
      "Accuracy: 0.20934891485809684\n",
      "\n"
     ]
    },
    {
     "name": "stderr",
     "output_type": "stream",
     "text": [
      "/home/sunil/anaconda3/envs/env1/lib/python3.6/site-packages/sklearn/metrics/classification.py:1137: UndefinedMetricWarning: F-score is ill-defined and being set to 0.0 in labels with no true samples.\n",
      "  'recall', 'true', average, warn_for)\n",
      "/home/sunil/anaconda3/envs/env1/lib/python3.6/site-packages/sklearn/multiclass.py:76: UserWarning: Label not 0 is present in all training examples.\n",
      "  str(classes[c]))\n",
      "/home/sunil/anaconda3/envs/env1/lib/python3.6/site-packages/sklearn/metrics/classification.py:1137: UndefinedMetricWarning: F-score is ill-defined and being set to 0.0 in labels with no true samples.\n",
      "  'recall', 'true', average, warn_for)\n"
     ]
    }
   ],
   "source": [
    "from utils_umap import run_embedding_classify_f1\n",
    "\n",
    "def umap_reduce(dataset):\n",
    "    graph = nx.read_edgelist(graph_location+dataset+'.edges')\n",
    "    adj_mat = nx.laplacian_matrix(graph)\n",
    "    print(\"Embedding Creation\")\n",
    "    embedding = umap.UMAP(n_neighbors=10,min_dist=0.1,metric='cosine',n_components=128).fit_transform(adj_mat)\n",
    "    print(\"Embedding created\")\n",
    "    #print(f\"Embedding size is {embedding.shape}\")\n",
    "    \n",
    "    return embedding\n",
    "\n",
    "\n",
    "def classify_embed(emb_file):\n",
    "    run_embedding_classify_f1(\"citeseer\",emb_file,splits_ratio=[0.1, 0.5, 0.9])\n",
    "    return None\n",
    "\n",
    "\n",
    "graphs = ['citeseer']\n",
    "embed = umap_reduce('citeseer')\n",
    "classify_embed(embed)"
   ]
  },
  {
   "cell_type": "code",
   "execution_count": 12,
   "metadata": {},
   "outputs": [
    {
     "data": {
      "text/plain": [
       "(19717, 128)"
      ]
     },
     "execution_count": 12,
     "metadata": {},
     "output_type": "execute_result"
    }
   ],
   "source": [
    "embed.shape"
   ]
  },
  {
   "cell_type": "code",
   "execution_count": 14,
   "metadata": {},
   "outputs": [],
   "source": [
    "import pickle\n",
    "with open(\"pubmed_umap.embed\",\"wb\") as f:\n",
    "    pickle.dump(embed,f)"
   ]
  },
  {
   "cell_type": "code",
   "execution_count": 2,
   "metadata": {},
   "outputs": [
    {
     "name": "stdout",
     "output_type": "stream",
     "text": [
      "Warning: graph_tool module is missing, motif analysis is not available.\n"
     ]
    }
   ],
   "source": [
    "from utils_umap import run_embedding_classify_f1\n",
    "\n",
    "with open(\"pubmed_umap.embed\",\"rb\") as f:\n",
    "    embed = pickle.load(f)"
   ]
  },
  {
   "cell_type": "code",
   "execution_count": 3,
   "metadata": {},
   "outputs": [
    {
     "name": "stderr",
     "output_type": "stream",
     "text": [
      "/home/sunil/anaconda3/envs/env1/lib/python3.6/site-packages/sklearn/metrics/classification.py:1137: UndefinedMetricWarning: F-score is ill-defined and being set to 0.0 in labels with no true samples.\n",
      "  'recall', 'true', average, warn_for)\n"
     ]
    },
    {
     "name": "stdout",
     "output_type": "stream",
     "text": [
      "file saved\n",
      "file saved\n",
      "file saved\n",
      "Embedding dim: 128, graph: pubmed\n",
      "\n",
      "Run number 1:\n",
      "Train ratio: 0.9\n",
      "micro: 0.3813387423935091\n",
      "macro: 0.2846918217295218\n",
      "samples: 0.3813387423935091\n",
      "weighted: 0.42918619038633127\n",
      "Accuracy: 0.3813387423935091\n",
      "Train ratio: 0.5\n",
      "micro: 0.3919261588396388\n",
      "macro: 0.2913804314002838\n",
      "samples: 0.3919261588396389\n",
      "weighted: 0.4400044158587555\n",
      "Accuracy: 0.3919261588396389\n",
      "Train ratio: 0.09999999999999998\n",
      "micro: 0.3880311056012622\n",
      "macro: 0.2892164639936791\n",
      "samples: 0.38803110560126225\n",
      "weighted: 0.43364493875216054\n",
      "Accuracy: 0.38803110560126225\n",
      "\n"
     ]
    },
    {
     "name": "stderr",
     "output_type": "stream",
     "text": [
      "/home/sunil/anaconda3/envs/env1/lib/python3.6/site-packages/sklearn/metrics/classification.py:1137: UndefinedMetricWarning: F-score is ill-defined and being set to 0.0 in labels with no true samples.\n",
      "  'recall', 'true', average, warn_for)\n"
     ]
    }
   ],
   "source": [
    "run_embedding_classify_f1(\"pubmed\",embed,splits_ratio=[0.1, 0.5, 0.9])"
   ]
  },
  {
   "cell_type": "code",
   "execution_count": 3,
   "metadata": {},
   "outputs": [],
   "source": [
    "\n",
    "\n",
    "graph = nx.read_edgelist(graph_location+'citeseer.edges')\n",
    "\n",
    "embed = KeyedVectors.load_word2vec_format(emb_location+'citeseer.edges_deepwalk.embeddings')"
   ]
  },
  {
   "cell_type": "code",
   "execution_count": 7,
   "metadata": {},
   "outputs": [],
   "source": [
    "k=nx.ego_graph(graph,'0',1,center=False)"
   ]
  },
  {
   "cell_type": "code",
   "execution_count": 8,
   "metadata": {},
   "outputs": [
    {
     "data": {
      "text/plain": [
       "<networkx.classes.graph.Graph at 0x7f0e5acdd390>"
      ]
     },
     "execution_count": 8,
     "metadata": {},
     "output_type": "execute_result"
    }
   ],
   "source": [
    "k"
   ]
  },
  {
   "cell_type": "code",
   "execution_count": 12,
   "metadata": {},
   "outputs": [],
   "source": [
    "l = k.nodes()"
   ]
  },
  {
   "cell_type": "code",
   "execution_count": 25,
   "metadata": {},
   "outputs": [
    {
     "name": "stdout",
     "output_type": "stream",
     "text": [
      "8 <class 'str'>\n",
      "3 <class 'str'>\n",
      "2 <class 'str'>\n",
      "7 <class 'str'>\n",
      "5 <class 'str'>\n",
      "9 <class 'str'>\n",
      "1 <class 'str'>\n",
      "10 <class 'str'>\n",
      "6 <class 'str'>\n",
      "11 <class 'str'>\n",
      "4 <class 'str'>\n",
      "['8', '3', '2', '7', '5', '9', '1', '10', '6', '11', '4']\n"
     ]
    }
   ],
   "source": [
    "for x in l.keys():\n",
    "    print(x,type(x))\n",
    "    \n",
    "len(l.keys())\n",
    "check = []\n",
    "for x in l.keys():\n",
    "    check.append(x)\n",
    "print(check)"
   ]
  },
  {
   "cell_type": "code",
   "execution_count": 39,
   "metadata": {},
   "outputs": [
    {
     "name": "stdout",
     "output_type": "stream",
     "text": [
      "for node 4 near nodes are: ['0', '3221', '3221', '8', '2', '3', '7', '5', '9', '1588', '0', '1', '10', '6', '11']\n",
      "for node 152 near nodes are: ['197', '2074', '147', '219', '557', '153']\n",
      "for node 996 near nodes are: ['995', '997', '998', '995']\n",
      "for node 1669 near nodes are: ['1670', '1670', '1670']\n"
     ]
    }
   ],
   "source": [
    "node = ['4','152','996','1669']\n",
    "\n",
    "for i in node:\n",
    "    step = 1\n",
    "    nn_list = []\n",
    "    while len(nn_list)<3:\n",
    "        nn=nx.ego_graph(graph,i,step,center=False)\n",
    "        for x in nn.nodes().keys():\n",
    "            nn_list.append(x)\n",
    "        step = step + 1\n",
    "    #nn_list = list(nn_list)\n",
    "    print(f\"for node {i} near nodes are: {nn_list}\")\n",
    "        \n",
    "        "
   ]
  },
  {
   "cell_type": "code",
   "execution_count": 35,
   "metadata": {},
   "outputs": [
    {
     "data": {
      "text/plain": [
       "list"
      ]
     },
     "execution_count": 35,
     "metadata": {},
     "output_type": "execute_result"
    }
   ],
   "source": [
    "check = []\n",
    "set(check)\n",
    "type(check)\n"
   ]
  },
  {
   "cell_type": "code",
   "execution_count": 63,
   "metadata": {},
   "outputs": [],
   "source": [
    "check1 = (embed['4']+embed['1'])/2"
   ]
  },
  {
   "cell_type": "code",
   "execution_count": 47,
   "metadata": {},
   "outputs": [
    {
     "data": {
      "text/plain": [
       "array([ 8.26899707e-03,  3.72427493e-01,  1.53950006e-01,  5.32043993e-01,\n",
       "        8.51050019e-03, -5.16406000e-01, -1.17264003e-01,  9.44909975e-02,\n",
       "        1.66065499e-01,  2.04052016e-01,  2.08821505e-01, -2.63797492e-01,\n",
       "        1.75953999e-01, -5.25349975e-01, -2.00233489e-01,  3.33447993e-01,\n",
       "       -1.45246997e-01,  4.66613501e-01,  1.08790025e-02,  8.61115009e-02,\n",
       "       -2.70927489e-01,  2.83619493e-01,  1.77182496e-01,  1.37299998e-03,\n",
       "       -3.93607497e-01,  1.73780024e-02,  2.12780997e-01, -6.43624961e-02,\n",
       "        6.40833974e-01, -3.83571506e-01, -6.48855984e-01,  2.10787505e-01,\n",
       "        1.60994977e-02,  4.60716993e-01, -2.93232501e-01, -1.32708013e-01,\n",
       "       -3.27596009e-01,  3.08326483e-01, -6.15284026e-01, -4.16427493e-01,\n",
       "       -4.91357505e-01, -3.73869002e-01,  1.43513083e-04, -3.16670507e-01,\n",
       "        5.65085039e-02,  1.80239499e-01,  2.67443001e-01, -4.35826004e-01,\n",
       "       -6.07651949e-01,  1.33387506e-01,  5.73821545e-01,  2.23063499e-01,\n",
       "       -6.12645507e-01, -1.18037499e-01, -1.09052494e-01, -1.36737004e-01,\n",
       "        2.88951010e-01,  1.74387500e-01, -2.78240032e-02,  3.15061510e-01,\n",
       "        4.47819978e-02,  8.37318540e-01,  9.30150002e-02,  1.76985994e-01,\n",
       "       -1.17751494e-01, -5.01968026e-01,  3.21007997e-01, -2.97544971e-02,\n",
       "       -2.63553023e-01, -2.80077994e-01, -1.86292499e-01, -1.68148011e-01,\n",
       "        3.19642514e-01,  5.35106003e-01, -1.86983004e-01,  1.58319995e-02,\n",
       "        4.33219969e-02, -1.55751005e-01,  3.42390016e-02, -2.85881996e-01,\n",
       "       -5.31017005e-01, -6.24908507e-01, -6.00470543e-01,  1.39733493e-01,\n",
       "        4.09757018e-01,  3.20100009e-01, -3.61288011e-01,  2.68880486e-01,\n",
       "       -3.28736007e-01,  3.03450495e-01,  3.53217483e-01, -5.37693024e-01,\n",
       "        1.37588993e-01,  2.23149508e-01,  9.77279991e-02, -3.87225002e-01,\n",
       "        4.09075022e-02, -2.56797493e-01, -2.48891503e-01, -4.99829531e-01,\n",
       "        8.34289938e-02, -4.40544486e-01, -4.42674011e-01, -3.58099975e-02,\n",
       "        3.13670993e-01,  1.78583503e-01, -2.87856996e-01, -2.74967015e-01,\n",
       "        3.28656018e-01, -2.20943987e-01,  6.50780976e-01,  3.52040008e-02,\n",
       "       -2.94425040e-02, -2.51451492e-01, -5.73634505e-01, -5.08468509e-01,\n",
       "        3.50425005e-01, -1.26111001e-01, -9.74590033e-02, -6.28552556e-01,\n",
       "       -3.44619974e-02,  3.08796495e-01, -1.89536497e-01, -1.44165501e-01,\n",
       "       -6.23005986e-01, -4.37736511e-01, -4.89443004e-01, -4.23902005e-01],\n",
       "      dtype=float32)"
      ]
     },
     "execution_count": 47,
     "metadata": {},
     "output_type": "execute_result"
    }
   ],
   "source": [
    "check1"
   ]
  },
  {
   "cell_type": "code",
   "execution_count": 52,
   "metadata": {},
   "outputs": [
    {
     "data": {
      "text/plain": [
       "0.591911338178267"
      ]
     },
     "execution_count": 52,
     "metadata": {},
     "output_type": "execute_result"
    }
   ],
   "source": [
    "embed.similarity('1','4')"
   ]
  },
  {
   "cell_type": "code",
   "execution_count": 51,
   "metadata": {},
   "outputs": [],
   "source": [
    "from sklearn.metrics.pairwise import cosine_similarity"
   ]
  },
  {
   "cell_type": "code",
   "execution_count": 57,
   "metadata": {},
   "outputs": [
    {
     "data": {
      "text/plain": [
       "array([[0.5919113]], dtype=float32)"
      ]
     },
     "execution_count": 57,
     "metadata": {},
     "output_type": "execute_result"
    }
   ],
   "source": [
    "cosine_similarity([embed['1']],[embed['4']])"
   ]
  },
  {
   "cell_type": "code",
   "execution_count": 64,
   "metadata": {},
   "outputs": [
    {
     "data": {
      "text/plain": [
       "array([[0.8703118]], dtype=float32)"
      ]
     },
     "execution_count": 64,
     "metadata": {},
     "output_type": "execute_result"
    }
   ],
   "source": [
    "cosine_similarity([embed['1']],[check1])"
   ]
  },
  {
   "cell_type": "code",
   "execution_count": 65,
   "metadata": {},
   "outputs": [
    {
     "data": {
      "text/plain": [
       "array([[0.9121047]], dtype=float32)"
      ]
     },
     "execution_count": 65,
     "metadata": {},
     "output_type": "execute_result"
    }
   ],
   "source": [
    "cosine_similarity([embed['4']],[check1])"
   ]
  },
  {
   "cell_type": "code",
   "execution_count": 67,
   "metadata": {},
   "outputs": [
    {
     "data": {
      "text/plain": [
       "'Name: \\nType: Graph\\nNumber of nodes: 3327\\nNumber of edges: 4676\\nAverage degree:   2.8109'"
      ]
     },
     "execution_count": 67,
     "metadata": {},
     "output_type": "execute_result"
    }
   ],
   "source": [
    "nx.info(graph)"
   ]
  },
  {
   "cell_type": "code",
   "execution_count": 108,
   "metadata": {},
   "outputs": [
    {
     "name": "stdout",
     "output_type": "stream",
     "text": [
      "Reached 0th iteration\n",
      "Reached 100th iteration\n",
      "Reached 200th iteration\n",
      "Reached 300th iteration\n",
      "Reached 400th iteration\n",
      "Reached 500th iteration\n",
      "Reached 600th iteration\n",
      "Reached 700th iteration\n",
      "Reached 800th iteration\n",
      "Reached 900th iteration\n",
      "Reached 1000th iteration\n",
      "Reached 1100th iteration\n",
      "Reached 1200th iteration\n",
      "Reached 1300th iteration\n",
      "Reached 1400th iteration\n",
      "Reached 1500th iteration\n",
      "Reached 1600th iteration\n",
      "Reached 1700th iteration\n",
      "Reached 1800th iteration\n",
      "Reached 1900th iteration\n",
      "Reached 2000th iteration\n",
      "Reached 2100th iteration\n",
      "Reached 2200th iteration\n",
      "Reached 2300th iteration\n",
      "Reached 2400th iteration\n",
      "Reached 2500th iteration\n",
      "Reached 2600th iteration\n",
      "Reached 2700th iteration\n",
      "Reached 2800th iteration\n",
      "Reached 2900th iteration\n",
      "Reached 3000th iteration\n",
      "Reached 3100th iteration\n",
      "Reached 3200th iteration\n",
      "Reached 3300th iteration\n",
      "done\n"
     ]
    }
   ],
   "source": [
    "#creation of new array with concatenation of neighbor embedding vectors\n",
    "import random\n",
    "new_emb_citeseer = np.ndarray(shape=(3327,256),dtype=float)\n",
    "\n",
    "for i in range(3327):\n",
    "    if i%100==0:\n",
    "        print(f\"Reached {i}th iteration\")\n",
    "    node = str(i)\n",
    "    step = 1\n",
    "    nn_list = []\n",
    "    while len(nn_list)<4 and step<4:\n",
    "        nn=nx.ego_graph(graph,node,step)\n",
    "        for x in nn.nodes().keys():\n",
    "            nn_list.append(x)\n",
    "        step = step + 1\n",
    "    nn_list = random.sample(nn_list,3)\n",
    "    avg_embed = (embed[nn_list[0]]+embed[nn_list[1]]+embed[nn_list[2]])/3\n",
    "    new_emb_citeseer[i,:] = np.concatenate((embed[node],avg_embed),axis=0)\n",
    "    \n",
    "print(\"done\")\n",
    "   "
   ]
  },
  {
   "cell_type": "code",
   "execution_count": 104,
   "metadata": {},
   "outputs": [
    {
     "name": "stdout",
     "output_type": "stream",
     "text": [
      "['162']\n"
     ]
    }
   ],
   "source": [
    "print(list(graph.neighbors('162')))"
   ]
  },
  {
   "cell_type": "code",
   "execution_count": 72,
   "metadata": {},
   "outputs": [],
   "source": [
    "check2 = nn_list+['458','58','36','58','25']"
   ]
  },
  {
   "cell_type": "code",
   "execution_count": 76,
   "metadata": {},
   "outputs": [
    {
     "name": "stdout",
     "output_type": "stream",
     "text": [
      "['1670', '58', '25']\n",
      "<class 'list'>\n"
     ]
    }
   ],
   "source": [
    "import random \n",
    "check2 = random.sample(check2,3)\n",
    "print(check3)\n",
    "print(type(check3))"
   ]
  },
  {
   "cell_type": "code",
   "execution_count": 77,
   "metadata": {},
   "outputs": [
    {
     "data": {
      "text/plain": [
       "['1670', '36', '25']"
      ]
     },
     "execution_count": 77,
     "metadata": {},
     "output_type": "execute_result"
    }
   ],
   "source": [
    "check2"
   ]
  },
  {
   "cell_type": "code",
   "execution_count": 78,
   "metadata": {},
   "outputs": [
    {
     "data": {
      "text/plain": [
       "['1670', '58', '25']"
      ]
     },
     "execution_count": 78,
     "metadata": {},
     "output_type": "execute_result"
    }
   ],
   "source": [
    "check3"
   ]
  },
  {
   "cell_type": "code",
   "execution_count": 79,
   "metadata": {},
   "outputs": [
    {
     "data": {
      "text/plain": [
       "array(['1670', '36', '25', '1670', '58', '25'], dtype='<U4')"
      ]
     },
     "execution_count": 79,
     "metadata": {},
     "output_type": "execute_result"
    }
   ],
   "source": [
    "np.concatenate((check2,check3),axis=0)"
   ]
  },
  {
   "cell_type": "code",
   "execution_count": 107,
   "metadata": {},
   "outputs": [
    {
     "data": {
      "text/plain": [
       "'Name: \\nType: Graph\\nNumber of nodes: 3327\\nNumber of edges: 4676\\nAverage degree:   2.8109'"
      ]
     },
     "execution_count": 107,
     "metadata": {},
     "output_type": "execute_result"
    }
   ],
   "source": [
    "nx.info(graph)"
   ]
  },
  {
   "cell_type": "code",
   "execution_count": 109,
   "metadata": {},
   "outputs": [
    {
     "name": "stdout",
     "output_type": "stream",
     "text": [
      "Warning: graph_tool module is missing, motif analysis is not available.\n",
      "./../data/\n",
      "file saved\n",
      "file saved\n",
      "file saved\n",
      "Embedding dim: 256, graph: citeseer\n",
      "\n",
      "Run number 1:\n",
      "Train ratio: 0.9\n",
      "micro: 0.6126126126126126\n",
      "macro: 0.49552281777943424\n",
      "samples: 0.6126126126126126\n",
      "weighted: 0.6193549418643362\n",
      "Accuracy: 0.6126126126126126\n",
      "Train ratio: 0.5\n",
      "micro: 0.5889423076923077\n",
      "macro: 0.4671398343615725\n",
      "samples: 0.5889423076923077\n",
      "weighted: 0.5989830608473592\n",
      "Accuracy: 0.5889423076923077\n",
      "Train ratio: 0.09999999999999998\n",
      "micro: 0.5151919866444074\n",
      "macro: 0.4004524907126599\n",
      "samples: 0.5151919866444074\n",
      "weighted: 0.5251481856572371\n",
      "Accuracy: 0.5151919866444074\n",
      "\n"
     ]
    },
    {
     "name": "stderr",
     "output_type": "stream",
     "text": [
      "/home/sunil/anaconda3/envs/env1/lib/python3.6/site-packages/sklearn/metrics/classification.py:1137: UndefinedMetricWarning: F-score is ill-defined and being set to 0.0 in labels with no true samples.\n",
      "  'recall', 'true', average, warn_for)\n",
      "/home/sunil/anaconda3/envs/env1/lib/python3.6/site-packages/sklearn/multiclass.py:76: UserWarning: Label not 0 is present in all training examples.\n",
      "  str(classes[c]))\n",
      "/home/sunil/anaconda3/envs/env1/lib/python3.6/site-packages/sklearn/metrics/classification.py:1137: UndefinedMetricWarning: F-score is ill-defined and being set to 0.0 in labels with no true samples.\n",
      "  'recall', 'true', average, warn_for)\n"
     ]
    }
   ],
   "source": [
    "from utils_umap import run_embedding_classify_f1\n",
    "\n",
    "run_embedding_classify_f1(\"citeseer\",new_emb_citeseer,splits_ratio=[0.1, 0.5, 0.9])"
   ]
  },
  {
   "cell_type": "code",
   "execution_count": 2,
   "metadata": {},
   "outputs": [],
   "source": [
    "#quick implementation for cora\n",
    "\n",
    "\n",
    "graph = nx.read_edgelist(graph_location+'cora.edges')\n",
    "\n",
    "embed_cora = KeyedVectors.load_word2vec_format(emb_location+'cora.edges_deepwalk.embeddings')\n",
    "\n"
   ]
  },
  {
   "cell_type": "code",
   "execution_count": 3,
   "metadata": {},
   "outputs": [
    {
     "data": {
      "text/plain": [
       "'Name: \\nType: Graph\\nNumber of nodes: 2708\\nNumber of edges: 5278\\nAverage degree:   3.8981'"
      ]
     },
     "execution_count": 3,
     "metadata": {},
     "output_type": "execute_result"
    }
   ],
   "source": [
    "nx.info(graph)"
   ]
  },
  {
   "cell_type": "code",
   "execution_count": 8,
   "metadata": {},
   "outputs": [
    {
     "name": "stdout",
     "output_type": "stream",
     "text": [
      "Reached 0th iteration\n",
      "Reached 100th iteration\n",
      "Reached 200th iteration\n",
      "Reached 300th iteration\n",
      "Reached 400th iteration\n",
      "Reached 500th iteration\n",
      "Reached 600th iteration\n",
      "Reached 700th iteration\n",
      "Reached 800th iteration\n",
      "Reached 900th iteration\n",
      "Reached 1000th iteration\n",
      "Reached 1100th iteration\n",
      "Reached 1200th iteration\n",
      "Reached 1300th iteration\n",
      "Reached 1400th iteration\n",
      "Reached 1500th iteration\n",
      "Reached 1600th iteration\n",
      "Reached 1700th iteration\n",
      "Reached 1800th iteration\n",
      "Reached 1900th iteration\n",
      "Reached 2000th iteration\n",
      "Reached 2100th iteration\n",
      "Reached 2200th iteration\n",
      "Reached 2300th iteration\n",
      "Reached 2400th iteration\n",
      "Reached 2500th iteration\n",
      "Reached 2600th iteration\n",
      "Reached 2700th iteration\n",
      "done\n"
     ]
    }
   ],
   "source": [
    "#creation of new array with concatenation of neighbor embedding vectors\n",
    "import random\n",
    "new_emb_cora = np.ndarray(shape=(2708,256),dtype=float)\n",
    "\n",
    "for i in range(2708):\n",
    "    if i%100==0:\n",
    "        print(f\"Reached {i}th iteration\")\n",
    "    node = str(i)\n",
    "    step = 1\n",
    "    nn_list = []\n",
    "    while len(nn_list)<4 and step<4:\n",
    "        nn=nx.ego_graph(graph,node,step)\n",
    "        for x in nn.nodes().keys():\n",
    "            nn_list.append(x)\n",
    "        step = step + 1\n",
    "    nn_list = random.sample(nn_list,3)\n",
    "    avg_embed = (embed_cora[nn_list[0]]+embed_cora[nn_list[1]]+embed_cora[nn_list[2]])/3\n",
    "    new_emb_cora[i,:] = np.concatenate((embed_cora[node],avg_embed),axis=0)\n",
    "    \n",
    "print(\"done\")\n",
    "   "
   ]
  },
  {
   "cell_type": "code",
   "execution_count": 9,
   "metadata": {},
   "outputs": [
    {
     "name": "stdout",
     "output_type": "stream",
     "text": [
      "Warning: graph_tool module is missing, motif analysis is not available.\n",
      "file saved\n",
      "file saved\n",
      "file saved\n",
      "Embedding dim: 256, graph: cora\n",
      "\n",
      "Run number 1:\n",
      "Train ratio: 0.9\n",
      "micro: 0.8413284132841329\n",
      "macro: 0.8256144498816921\n",
      "samples: 0.8413284132841329\n",
      "weighted: 0.8394028375072641\n",
      "Accuracy: 0.8413284132841329\n",
      "Train ratio: 0.5\n",
      "micro: 0.8308714918759232\n",
      "macro: 0.8224782475679422\n",
      "samples: 0.8308714918759232\n",
      "weighted: 0.8310609516133026\n",
      "Accuracy: 0.8308714918759232\n",
      "Train ratio: 0.09999999999999998\n",
      "micro: 0.7497949138638228\n",
      "macro: 0.7319521735804874\n",
      "samples: 0.7497949138638228\n",
      "weighted: 0.7511459300167207\n",
      "Accuracy: 0.7497949138638228\n",
      "\n"
     ]
    }
   ],
   "source": [
    "from utils_umap import run_embedding_classify_f1\n",
    "\n",
    "run_embedding_classify_f1(\"cora\",new_emb_cora,splits_ratio=[0.1, 0.5, 0.9])"
   ]
  },
  {
   "cell_type": "code",
   "execution_count": 10,
   "metadata": {},
   "outputs": [
    {
     "data": {
      "text/plain": [
       "'Name: \\nType: Graph\\nNumber of nodes: 10312\\nNumber of edges: 333983\\nAverage degree:  64.7756'"
      ]
     },
     "execution_count": 10,
     "metadata": {},
     "output_type": "execute_result"
    }
   ],
   "source": [
    "#for blogcatalog\n",
    "\n",
    "#quick implementation for cora\n",
    "\n",
    "\n",
    "graph = nx.read_edgelist(graph_location+'blogcatalog.edges')\n",
    "\n",
    "embed_blogcatalog = KeyedVectors.load_word2vec_format(emb_location+'blogcatalog.edges_deepwalk.embeddings')\n",
    "\n",
    "nx.info(graph)"
   ]
  },
  {
   "cell_type": "code",
   "execution_count": 11,
   "metadata": {},
   "outputs": [
    {
     "name": "stdout",
     "output_type": "stream",
     "text": [
      "Reached 0th iteration\n",
      "Reached 1000th iteration\n",
      "Reached 2000th iteration\n",
      "Reached 3000th iteration\n",
      "Reached 4000th iteration\n",
      "Reached 5000th iteration\n",
      "Reached 6000th iteration\n",
      "Reached 7000th iteration\n",
      "Reached 8000th iteration\n",
      "Reached 9000th iteration\n",
      "Reached 10000th iteration\n",
      "done\n"
     ]
    }
   ],
   "source": [
    "#creation of new array with concatenation of neighbor embedding vectors\n",
    "import random\n",
    "new_emb_blogcatalog = np.ndarray(shape=(10312,256),dtype=float)\n",
    "\n",
    "for i in range(10312):\n",
    "    if i%1000==0:\n",
    "        print(f\"Reached {i}th iteration\")\n",
    "    node = str(i)\n",
    "    step = 1\n",
    "    nn_list = []\n",
    "    while len(nn_list)<4 and step<4:\n",
    "        nn=nx.ego_graph(graph,node,step)\n",
    "        for x in nn.nodes().keys():\n",
    "            nn_list.append(x)\n",
    "        step = step + 1\n",
    "    nn_list = random.sample(nn_list,3)\n",
    "    avg_embed = (embed_blogcatalog[nn_list[0]]+embed_blogcatalog[nn_list[1]]+embed_blogcatalog[nn_list[2]])/3\n",
    "    new_emb_blogcatalog[i,:] = np.concatenate((embed_blogcatalog[node],avg_embed),axis=0)\n",
    "    \n",
    "print(\"done\")\n",
    "   "
   ]
  },
  {
   "cell_type": "code",
   "execution_count": 12,
   "metadata": {},
   "outputs": [
    {
     "name": "stderr",
     "output_type": "stream",
     "text": [
      "/home/sunil/anaconda3/envs/env1/lib/python3.6/site-packages/sklearn/metrics/classification.py:1137: UndefinedMetricWarning: F-score is ill-defined and being set to 0.0 in labels with no true samples.\n",
      "  'recall', 'true', average, warn_for)\n"
     ]
    },
    {
     "name": "stdout",
     "output_type": "stream",
     "text": [
      "file saved\n"
     ]
    },
    {
     "name": "stderr",
     "output_type": "stream",
     "text": [
      "/home/sunil/anaconda3/envs/env1/lib/python3.6/site-packages/sklearn/metrics/classification.py:1137: UndefinedMetricWarning: F-score is ill-defined and being set to 0.0 in labels with no true samples.\n",
      "  'recall', 'true', average, warn_for)\n"
     ]
    },
    {
     "name": "stdout",
     "output_type": "stream",
     "text": [
      "file saved\n"
     ]
    },
    {
     "name": "stderr",
     "output_type": "stream",
     "text": [
      "/home/sunil/anaconda3/envs/env1/lib/python3.6/site-packages/sklearn/multiclass.py:76: UserWarning: Label not 11 is present in all training examples.\n",
      "  str(classes[c]))\n"
     ]
    },
    {
     "name": "stdout",
     "output_type": "stream",
     "text": [
      "file saved\n",
      "Embedding dim: 256, graph: blogcatalog\n",
      "\n",
      "Run number 1:\n",
      "Train ratio: 0.9\n",
      "micro: 0.39509536784741145\n",
      "macro: 0.2500594499555891\n",
      "samples: 0.3890261627906977\n",
      "weighted: 0.42355469225135517\n",
      "Accuracy: 0.311046511627907\n",
      "Train ratio: 0.5\n",
      "micro: 0.37295649764477695\n",
      "macro: 0.23010986383231669\n",
      "samples: 0.3761944223348413\n",
      "weighted: 0.4000728104371395\n",
      "Accuracy: 0.30411171450737007\n",
      "Train ratio: 0.09999999999999998\n",
      "micro: 0.32327353914851026\n",
      "macro: 0.17827160284309315\n",
      "samples: 0.32029870876169764\n",
      "weighted: 0.3533207062689102\n",
      "Accuracy: 0.2533132205581295\n",
      "\n"
     ]
    },
    {
     "name": "stderr",
     "output_type": "stream",
     "text": [
      "/home/sunil/anaconda3/envs/env1/lib/python3.6/site-packages/sklearn/multiclass.py:76: UserWarning: Label not 38 is present in all training examples.\n",
      "  str(classes[c]))\n",
      "/home/sunil/anaconda3/envs/env1/lib/python3.6/site-packages/sklearn/metrics/classification.py:1137: UndefinedMetricWarning: F-score is ill-defined and being set to 0.0 in labels with no true samples.\n",
      "  'recall', 'true', average, warn_for)\n"
     ]
    }
   ],
   "source": [
    "from utils_umap import run_embedding_classify_f1\n",
    "\n",
    "run_embedding_classify_f1(\"blogcatalog\",new_emb_blogcatalog,splits_ratio=[0.1, 0.5, 0.9])"
   ]
  },
  {
   "cell_type": "code",
   "execution_count": 15,
   "metadata": {},
   "outputs": [
    {
     "data": {
      "text/plain": [
       "'Name: \\nType: Graph\\nNumber of nodes: 19717\\nNumber of edges: 44327\\nAverage degree:   4.4963'"
      ]
     },
     "execution_count": 15,
     "metadata": {},
     "output_type": "execute_result"
    }
   ],
   "source": [
    "#for pubmed\n",
    "\n",
    "\n",
    "\n",
    "graph = nx.read_edgelist(graph_location+'pubmed.edges')\n",
    "\n",
    "embed_pubmed = KeyedVectors.load_word2vec_format(emb_location+'pubmed.edges_deepwalk.embeddings')\n",
    "\n",
    "nx.info(graph)"
   ]
  },
  {
   "cell_type": "code",
   "execution_count": 20,
   "metadata": {},
   "outputs": [
    {
     "name": "stdout",
     "output_type": "stream",
     "text": [
      "Reached 0th iteration\n",
      "Reached 1000th iteration\n",
      "Reached 2000th iteration\n",
      "Reached 3000th iteration\n",
      "Reached 4000th iteration\n",
      "Reached 5000th iteration\n",
      "Reached 6000th iteration\n",
      "Reached 7000th iteration\n",
      "Reached 8000th iteration\n",
      "Reached 9000th iteration\n",
      "Reached 10000th iteration\n",
      "Reached 11000th iteration\n",
      "Reached 12000th iteration\n",
      "Reached 13000th iteration\n",
      "Reached 14000th iteration\n",
      "Reached 15000th iteration\n",
      "Reached 16000th iteration\n",
      "Reached 17000th iteration\n",
      "Reached 18000th iteration\n",
      "Reached 19000th iteration\n",
      "done\n"
     ]
    }
   ],
   "source": [
    "#creation of new array with concatenation of neighbor embedding vectors\n",
    "import random\n",
    "new_emb_pubmed = np.ndarray(shape=(19717,256),dtype=float)\n",
    "\n",
    "for i in range(19717):\n",
    "    if i%1000==0:\n",
    "        print(f\"Reached {i}th iteration\")\n",
    "    node = str(i)\n",
    "    step = 1\n",
    "    nn_list = []\n",
    "    while len(nn_list)<2 and step<3:\n",
    "        nn=nx.ego_graph(graph,node,step)\n",
    "        for x in nn.nodes().keys():\n",
    "            nn_list.append(x)\n",
    "        step = step + 1\n",
    "    nn_list = random.sample(nn_list,2)\n",
    "    #avg_embed = (embed_pubmed[nn_list[0]]+embed_pubmed[nn_list[1]]+embed_pubmed[nn_list[2]])/3\n",
    "    avg_embed = (embed_pubmed[nn_list[0]]+embed_pubmed[nn_list[1]])/2\n",
    "    new_emb_pubmed[i,:] = np.concatenate((embed_pubmed[node],avg_embed),axis=0)\n",
    "    \n",
    "print(\"done\")\n",
    "   "
   ]
  },
  {
   "cell_type": "code",
   "execution_count": 21,
   "metadata": {},
   "outputs": [
    {
     "name": "stdout",
     "output_type": "stream",
     "text": [
      "Embedding dim: 256, graph: pubmed\n",
      "\n",
      "Run number 1:\n",
      "Train ratio: 0.9\n",
      "micro: 0.7966531440162272\n",
      "macro: 0.7895220391112527\n",
      "samples: 0.7966531440162272\n",
      "weighted: 0.7973980534727014\n",
      "Accuracy: 0.7966531440162272\n",
      "Train ratio: 0.5\n",
      "micro: 0.7795922507353688\n",
      "macro: 0.7647667602129736\n",
      "samples: 0.7795922507353688\n",
      "weighted: 0.7814731607367272\n",
      "Accuracy: 0.7795922507353688\n",
      "Train ratio: 0.09999999999999998\n",
      "micro: 0.7600586047560015\n",
      "macro: 0.7451436075842685\n",
      "samples: 0.7600586047560014\n",
      "weighted: 0.7614687487714462\n",
      "Accuracy: 0.7600586047560014\n",
      "\n"
     ]
    }
   ],
   "source": [
    "from utils1 import run_embedding_classify_f1\n",
    "\n",
    "run_embedding_classify_f1(\"pubmed\",new_emb_pubmed,splits_ratio=[0.1, 0.5, 0.9])"
   ]
  },
  {
   "cell_type": "code",
   "execution_count": 22,
   "metadata": {},
   "outputs": [],
   "source": [
    "#creating new matrix with walk statistics and then try to reduce the dimension and see the result\n",
    "\n",
    "import numpy as np"
   ]
  },
  {
   "cell_type": "code",
   "execution_count": 25,
   "metadata": {},
   "outputs": [
    {
     "name": "stdout",
     "output_type": "stream",
     "text": [
      "33270\n"
     ]
    }
   ],
   "source": [
    "f = open(emb_location+'deepwalk.walk','rb')\n",
    "walk = pickle.load(f)\n",
    "print(len(walk))"
   ]
  },
  {
   "cell_type": "code",
   "execution_count": 26,
   "metadata": {},
   "outputs": [],
   "source": [
    "list_extend = []\n",
    "for i in range(len(walk)):\n",
    "    list_extend.extend(walk[i])\n",
    "    \n"
   ]
  },
  {
   "cell_type": "code",
   "execution_count": 27,
   "metadata": {},
   "outputs": [
    {
     "data": {
      "text/plain": [
       "1312080"
      ]
     },
     "execution_count": 27,
     "metadata": {},
     "output_type": "execute_result"
    }
   ],
   "source": [
    "len(list_extend)"
   ]
  },
  {
   "cell_type": "code",
   "execution_count": 28,
   "metadata": {},
   "outputs": [
    {
     "name": "stdout",
     "output_type": "stream",
     "text": [
      "1.933957815170288\n"
     ]
    }
   ],
   "source": [
    "import time\n",
    "c1 = 0\n",
    "c2 = 1\n",
    "\n",
    "new_mat = np.zeros(shape=(3327,3327))\n",
    "\n",
    "t0 = time.time()\n",
    "for i in range(len(list_extend)-1):\n",
    "    i1 = int(list_extend[c1])\n",
    "    i2 = int(list_extend[c2])\n",
    "    new_mat[i1,i2] +=1\n",
    "    new_mat[i2,i1] +=1\n",
    "    c1 += 1\n",
    "    c2 += 1\n",
    "t1 = time.time()\n",
    "total_time = t1-t0\n",
    "print(total_time)\n",
    "    "
   ]
  },
  {
   "cell_type": "code",
   "execution_count": 36,
   "metadata": {},
   "outputs": [
    {
     "data": {
      "text/plain": [
       "(3327, 3327)"
      ]
     },
     "execution_count": 36,
     "metadata": {},
     "output_type": "execute_result"
    }
   ],
   "source": [
    "new_mat.shape"
   ]
  },
  {
   "cell_type": "code",
   "execution_count": 30,
   "metadata": {},
   "outputs": [],
   "source": [
    "stat_mat = new_mat"
   ]
  },
  {
   "cell_type": "code",
   "execution_count": 35,
   "metadata": {},
   "outputs": [],
   "source": [
    "# now umap reduction\n",
    "import umap\n",
    "\n",
    "stat_embed = umap.UMAP(n_neighbors=10,min_dist=0.1,metric='cosine',n_components=80).fit_transform(stat_mat)"
   ]
  },
  {
   "cell_type": "code",
   "execution_count": 37,
   "metadata": {},
   "outputs": [
    {
     "data": {
      "text/plain": [
       "(3327, 80)"
      ]
     },
     "execution_count": 37,
     "metadata": {},
     "output_type": "execute_result"
    }
   ],
   "source": [
    "stat_embed.shape"
   ]
  },
  {
   "cell_type": "code",
   "execution_count": 38,
   "metadata": {},
   "outputs": [
    {
     "name": "stdout",
     "output_type": "stream",
     "text": [
      "./../data/\n"
     ]
    },
    {
     "name": "stderr",
     "output_type": "stream",
     "text": [
      "/home/sunil/anaconda3/envs/env1/lib/python3.6/site-packages/sklearn/metrics/classification.py:1137: UndefinedMetricWarning: F-score is ill-defined and being set to 0.0 in labels with no true samples.\n",
      "  'recall', 'true', average, warn_for)\n"
     ]
    },
    {
     "name": "stdout",
     "output_type": "stream",
     "text": [
      "file saved\n",
      "file saved\n",
      "file saved\n",
      "Embedding dim: 80, graph: citeseer\n",
      "\n",
      "Run number 1:\n",
      "Train ratio: 0.9\n",
      "micro: 0.4744744744744745\n",
      "macro: 0.3438531755890026\n",
      "samples: 0.4744744744744745\n",
      "weighted: 0.5015704500943099\n",
      "Accuracy: 0.4744744744744745\n",
      "Train ratio: 0.5\n",
      "micro: 0.49459134615384615\n",
      "macro: 0.3594661663346211\n",
      "samples: 0.49459134615384615\n",
      "weighted: 0.5220996933820913\n",
      "Accuracy: 0.49459134615384615\n",
      "Train ratio: 0.09999999999999998\n",
      "micro: 0.47646076794657766\n",
      "macro: 0.3599203558274789\n",
      "samples: 0.47646076794657766\n",
      "weighted: 0.4924823949673054\n",
      "Accuracy: 0.47646076794657766\n",
      "\n"
     ]
    },
    {
     "name": "stderr",
     "output_type": "stream",
     "text": [
      "/home/sunil/anaconda3/envs/env1/lib/python3.6/site-packages/sklearn/metrics/classification.py:1137: UndefinedMetricWarning: F-score is ill-defined and being set to 0.0 in labels with no true samples.\n",
      "  'recall', 'true', average, warn_for)\n",
      "/home/sunil/anaconda3/envs/env1/lib/python3.6/site-packages/sklearn/multiclass.py:76: UserWarning: Label not 0 is present in all training examples.\n",
      "  str(classes[c]))\n",
      "/home/sunil/anaconda3/envs/env1/lib/python3.6/site-packages/sklearn/metrics/classification.py:1137: UndefinedMetricWarning: F-score is ill-defined and being set to 0.0 in labels with no true samples.\n",
      "  'recall', 'true', average, warn_for)\n"
     ]
    }
   ],
   "source": [
    "from utils_umap import run_embedding_classify_f1\n",
    "run_embedding_classify_f1(\"citeseer\",stat_embed,splits_ratio=[0.1, 0.5, 0.9])"
   ]
  },
  {
   "cell_type": "code",
   "execution_count": null,
   "metadata": {},
   "outputs": [],
   "source": []
  }
 ],
 "metadata": {
  "kernelspec": {
   "display_name": "Python 3",
   "language": "python",
   "name": "python3"
  },
  "language_info": {
   "codemirror_mode": {
    "name": "ipython",
    "version": 3
   },
   "file_extension": ".py",
   "mimetype": "text/x-python",
   "name": "python",
   "nbconvert_exporter": "python",
   "pygments_lexer": "ipython3",
   "version": "3.6.4"
  }
 },
 "nbformat": 4,
 "nbformat_minor": 2
}
