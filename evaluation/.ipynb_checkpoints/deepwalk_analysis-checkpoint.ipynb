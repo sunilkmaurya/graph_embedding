{
 "cells": [
  {
   "cell_type": "code",
   "execution_count": 6,
   "metadata": {},
   "outputs": [],
   "source": [
    "#import libraries and set path of data and embeddings\n",
    "import networkx as nx\n",
    "import numpy as np\n",
    "import pickle\n",
    "from util_func import *\n",
    "\n",
    "from prettytable import PrettyTable\n",
    "emb_location = './../generated_embedding/'\n",
    "graph_location = './../data/'"
   ]
  },
  {
   "cell_type": "code",
   "execution_count": 11,
   "metadata": {},
   "outputs": [],
   "source": [
    "def run_embed(dataset_name,save_stats=True):\n",
    "    '''Load the embeddings and perform statistical analysis of predictions'''\n",
    "    #load the embedding file for the dataset\n",
    "    emb_loc = emb_location+dataset_name+'.edges_deepwalk.embeddings'\n",
    "    emb = load_embeddings(emb_loc)\n",
    "    #runnning simple classifier on deepwalk embeddings\n",
    "    simple_classify_f1(dataset_name,emb,splits_ratio=[0.1],save_stats=True)\n"
   ]
  },
  {
   "cell_type": "code",
   "execution_count": 20,
   "metadata": {},
   "outputs": [
    {
     "name": "stdout",
     "output_type": "stream",
     "text": [
      "Dataset is citeseer\n",
      "{'Labels': array([0, 0, 0, ..., 4, 3, 5]), 'NXGraph': <networkx.classes.digraph.DiGraph object at 0x7f3d02a38a58>, 'CSRFeatures': <3327x3703 sparse matrix of type '<class 'numpy.int64'>'\n",
      "\twith 105165 stored elements in Compressed Sparse Row format>}\n",
      "citeseer labels created\n",
      "Dataset is cora\n",
      "{'Labels': array([2, 5, 0, ..., 3, 3, 2]), 'CSRFeatures': <2708x1433 sparse matrix of type '<class 'numpy.int64'>'\n",
      "\twith 49216 stored elements in Compressed Sparse Row format>, 'NXGraph': <networkx.classes.digraph.DiGraph object at 0x7f3d02a38a20>}\n",
      "cora labels created\n",
      "Dataset is blogcatalog\n",
      "{'LILLabels': <10312x39 sparse matrix of type '<class 'numpy.int64'>'\n",
      "\twith 14476 stored elements in LInked List format>, 'NXGraph': <networkx.classes.graph.Graph object at 0x7f3d029ca8d0>}\n",
      "blogcatalog labels created\n"
     ]
    }
   ],
   "source": [
    "#one time file to create labels for the dataset\n",
    "def dump_label(data):\n",
    "    print(f\"Dataset is {data}\")\n",
    "    f = open(graph_location+data+'.data','rb')\n",
    "    a = pickle.load(f)\n",
    "    print(a)\n",
    "    if data=='blogcatalog':\n",
    "        labels = a['LILLabels']\n",
    "    else:\n",
    "        labels = a['Labels']\n",
    "    with open(graph_location+data+'.labels',\"wb\") as f1:\n",
    "        pickle.dump(labels,f1)\n",
    "        print(f\"{data} labels created\")\n",
    "        \n",
    "d = ['citeseer','cora','blogcatalog']\n",
    "\n",
    "for i in d:\n",
    "    dump_label(i)"
   ]
  },
  {
   "cell_type": "code",
   "execution_count": 21,
   "metadata": {},
   "outputs": [
    {
     "ename": "NameError",
     "evalue": "name 'get_top_k' is not defined",
     "output_type": "error",
     "traceback": [
      "\u001b[0;31m---------------------------------------------------------------------------\u001b[0m",
      "\u001b[0;31mNameError\u001b[0m                                 Traceback (most recent call last)",
      "\u001b[0;32m<ipython-input-21-839bc2fc7fca>\u001b[0m in \u001b[0;36m<module>\u001b[0;34m()\u001b[0m\n\u001b[1;32m      1\u001b[0m \u001b[0mdataset\u001b[0m \u001b[0;34m=\u001b[0m \u001b[0;34m'citeseer'\u001b[0m\u001b[0;34m\u001b[0m\u001b[0m\n\u001b[0;32m----> 2\u001b[0;31m \u001b[0mrun_embed\u001b[0m\u001b[0;34m(\u001b[0m\u001b[0mdataset\u001b[0m\u001b[0;34m)\u001b[0m\u001b[0;34m\u001b[0m\u001b[0m\n\u001b[0m",
      "\u001b[0;32m<ipython-input-11-6b22938037c8>\u001b[0m in \u001b[0;36mrun_embed\u001b[0;34m(dataset_name, save_stats)\u001b[0m\n\u001b[1;32m      5\u001b[0m     \u001b[0memb\u001b[0m \u001b[0;34m=\u001b[0m \u001b[0mload_embeddings\u001b[0m\u001b[0;34m(\u001b[0m\u001b[0memb_loc\u001b[0m\u001b[0;34m)\u001b[0m\u001b[0;34m\u001b[0m\u001b[0m\n\u001b[1;32m      6\u001b[0m     \u001b[0;31m#runnning simple classifier on deepwalk embeddings\u001b[0m\u001b[0;34m\u001b[0m\u001b[0;34m\u001b[0m\u001b[0m\n\u001b[0;32m----> 7\u001b[0;31m     \u001b[0msimple_classify_f1\u001b[0m\u001b[0;34m(\u001b[0m\u001b[0mdataset_name\u001b[0m\u001b[0;34m,\u001b[0m\u001b[0memb\u001b[0m\u001b[0;34m,\u001b[0m\u001b[0msplits_ratio\u001b[0m\u001b[0;34m=\u001b[0m\u001b[0;34m[\u001b[0m\u001b[0;36m0.1\u001b[0m\u001b[0;34m]\u001b[0m\u001b[0;34m,\u001b[0m\u001b[0msave_stats\u001b[0m\u001b[0;34m=\u001b[0m\u001b[0;32mTrue\u001b[0m\u001b[0;34m)\u001b[0m\u001b[0;34m\u001b[0m\u001b[0m\n\u001b[0m",
      "\u001b[0;32m~/trial_projects/embeddings/graph_embedding/evaluation/util_func.py\u001b[0m in \u001b[0;36msimple_classify_f1\u001b[0;34m(dataset_name, emb_file, clf, splits_ratio, num_run, write_to_file, save_stats)\u001b[0m\n\u001b[1;32m     57\u001b[0m             X_train, X_test, y_train, y_test, indices_train, indices_test = train_test_split(\n\u001b[1;32m     58\u001b[0m                 emb, labels,indices, test_size=sr, random_state=run)\n\u001b[0;32m---> 59\u001b[0;31m             \u001b[0mtop_k_list\u001b[0m \u001b[0;34m=\u001b[0m \u001b[0mget_top_k\u001b[0m\u001b[0;34m(\u001b[0m\u001b[0my_test\u001b[0m\u001b[0;34m)\u001b[0m\u001b[0;34m\u001b[0m\u001b[0m\n\u001b[0m\u001b[1;32m     60\u001b[0m             \u001b[0mmclf\u001b[0m \u001b[0;34m=\u001b[0m \u001b[0mTopKRanker\u001b[0m\u001b[0;34m(\u001b[0m\u001b[0mclf\u001b[0m\u001b[0;34m)\u001b[0m\u001b[0;34m\u001b[0m\u001b[0m\n\u001b[1;32m     61\u001b[0m             \u001b[0mmclf\u001b[0m\u001b[0;34m.\u001b[0m\u001b[0mfit\u001b[0m\u001b[0;34m(\u001b[0m\u001b[0mX_train\u001b[0m\u001b[0;34m,\u001b[0m \u001b[0my_train\u001b[0m\u001b[0;34m)\u001b[0m\u001b[0;34m\u001b[0m\u001b[0m\n",
      "\u001b[0;31mNameError\u001b[0m: name 'get_top_k' is not defined"
     ]
    }
   ],
   "source": [
    "dataset = 'citeseer'\n",
    "run_embed(dataset)"
   ]
  },
  {
   "cell_type": "code",
   "execution_count": null,
   "metadata": {},
   "outputs": [],
   "source": []
  },
  {
   "cell_type": "code",
   "execution_count": null,
   "metadata": {},
   "outputs": [],
   "source": []
  }
 ],
 "metadata": {
  "kernelspec": {
   "display_name": "Python 3",
   "language": "python",
   "name": "python3"
  },
  "language_info": {
   "codemirror_mode": {
    "name": "ipython",
    "version": 3
   },
   "file_extension": ".py",
   "mimetype": "text/x-python",
   "name": "python",
   "nbconvert_exporter": "python",
   "pygments_lexer": "ipython3",
   "version": "3.6.4"
  }
 },
 "nbformat": 4,
 "nbformat_minor": 2
}
