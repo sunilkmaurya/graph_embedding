{
 "cells": [
  {
   "cell_type": "code",
   "execution_count": 1,
   "metadata": {},
   "outputs": [],
   "source": [
    "#this part is to load all embeddings and do the analysis\n",
    "#of what types of nodes are identified wrong with the learning\n",
    "#algorithms\n",
    "\n",
    "import numpy as np\n",
    "import pickle\n",
    "import networkx as nx\n",
    "from utils import run_embedding_classify_f1\n",
    "from prettytable import PrettyTable\n",
    "emb_location = './../generated_embedding/'\n",
    "graph_location = './../data/'"
   ]
  },
  {
   "cell_type": "code",
   "execution_count": 2,
   "metadata": {},
   "outputs": [
    {
     "name": "stdout",
     "output_type": "stream",
     "text": [
      "./../data/\n",
      "file saved\n",
      "Embedding dim: 128, graph: citeseer\n",
      "\n",
      "Run number 1:\n",
      "Train ratio: 0.9\n",
      "micro: 0.5885885885885885\n",
      "macro: 0.4798335584661983\n",
      "samples: 0.5885885885885885\n",
      "weighted: 0.5958909456077889\n",
      "Accuracy: 0.5885885885885885\n",
      "\n",
      "(333,)\n",
      "(333, 7)\n",
      "(333, 7)\n",
      "\n",
      "\n",
      "\n",
      "+------------+----------+---------------+-----------------+--------+\n",
      "| Serial No. | Node no. |   True Label  | Predicted Label | Degree |\n",
      "+------------+----------+---------------+-----------------+--------+\n",
      "|     1      |   2168   | (array([6]),) |  (array([4]),)  |   1    |\n",
      "|     2      |   2878   | (array([5]),) |  (array([6]),)  |   2    |\n",
      "|     3      |   1739   | (array([5]),) |  (array([1]),)  |   1    |\n",
      "|     4      |   2698   | (array([2]),) |  (array([4]),)  |   2    |\n",
      "|     5      |   1771   | (array([3]),) |  (array([5]),)  |   1    |\n",
      "|     6      |   461    | (array([3]),) |  (array([1]),)  |   2    |\n",
      "|     7      |   2209   | (array([2]),) |  (array([5]),)  |   1    |\n",
      "|     8      |   3233   | (array([6]),) |  (array([2]),)  |   1    |\n",
      "|     9      |    22    | (array([1]),) |  (array([5]),)  |   1    |\n",
      "|     10     |   1412   | (array([2]),) |  (array([4]),)  |   1    |\n",
      "|     11     |   1836   | (array([5]),) |  (array([4]),)  |   2    |\n",
      "|     12     |   1197   | (array([2]),) |  (array([3]),)  |   1    |\n",
      "|     13     |   1953   | (array([3]),) |  (array([5]),)  |   1    |\n",
      "|     14     |   3296   | (array([3]),) |  (array([4]),)  |   2    |\n",
      "|     15     |   559    | (array([2]),) |  (array([3]),)  |   2    |\n",
      "|     16     |   499    | (array([3]),) |  (array([5]),)  |   1    |\n",
      "|     17     |    33    | (array([4]),) |  (array([3]),)  |   9    |\n",
      "|     18     |   3207   | (array([3]),) |  (array([1]),)  |   1    |\n",
      "|     19     |   1721   | (array([2]),) |  (array([3]),)  |   1    |\n",
      "|     20     |   2025   | (array([4]),) |  (array([3]),)  |   1    |\n",
      "|     21     |   3322   | (array([5]),) |  (array([3]),)  |   1    |\n",
      "|     22     |   675    | (array([4]),) |  (array([3]),)  |   1    |\n",
      "|     23     |   2540   | (array([5]),) |  (array([3]),)  |   1    |\n",
      "|     24     |   117    | (array([6]),) |  (array([1]),)  |   2    |\n",
      "|     25     |   704    | (array([1]),) |  (array([3]),)  |   3    |\n",
      "|     26     |   3312   | (array([5]),) |  (array([4]),)  |   1    |\n",
      "|     27     |   628    | (array([4]),) |  (array([3]),)  |   1    |\n",
      "|     28     |   2445   | (array([4]),) |  (array([1]),)  |   1    |\n",
      "|     29     |   2809   | (array([1]),) |  (array([6]),)  |   3    |\n",
      "|     30     |   2005   | (array([1]),) |  (array([5]),)  |   3    |\n",
      "|     31     |   543    | (array([5]),) |  (array([3]),)  |   2    |\n",
      "|     32     |   2756   | (array([5]),) |  (array([3]),)  |   3    |\n",
      "|     33     |   545    | (array([4]),) |  (array([3]),)  |   4    |\n",
      "|     34     |   1414   | (array([4]),) |  (array([5]),)  |   3    |\n",
      "|     35     |   2638   | (array([6]),) |  (array([3]),)  |   1    |\n",
      "|     36     |   751    | (array([2]),) |  (array([1]),)  |   7    |\n",
      "|     37     |   514    | (array([3]),) |  (array([4]),)  |   1    |\n",
      "|     38     |   1171   | (array([2]),) |  (array([4]),)  |   1    |\n",
      "|     39     |    92    | (array([4]),) |  (array([3]),)  |   1    |\n",
      "|     40     |   1014   | (array([5]),) |  (array([6]),)  |   1    |\n",
      "|     41     |   2566   | (array([5]),) |  (array([1]),)  |   1    |\n",
      "|     42     |   3275   | (array([5]),) |  (array([4]),)  |   1    |\n",
      "|     43     |   224    | (array([3]),) |  (array([6]),)  |   1    |\n",
      "|     44     |   1535   | (array([3]),) |  (array([5]),)  |   2    |\n",
      "|     45     |   3041   | (array([3]),) |  (array([0]),)  |   1    |\n",
      "|     46     |   3311   | (array([3]),) |  (array([5]),)  |   1    |\n",
      "|     47     |   1489   | (array([3]),) |  (array([6]),)  |   1    |\n",
      "|     48     |   3213   | (array([5]),) |  (array([2]),)  |   1    |\n",
      "|     49     |   1315   | (array([3]),) |  (array([4]),)  |   7    |\n",
      "|     50     |   118    | (array([6]),) |  (array([1]),)  |   2    |\n",
      "|     51     |   2476   | (array([6]),) |  (array([4]),)  |   4    |\n",
      "|     52     |    45    | (array([3]),) |  (array([4]),)  |   3    |\n",
      "|     53     |   3174   | (array([0]),) |  (array([2]),)  |   1    |\n",
      "|     54     |   290    | (array([5]),) |  (array([1]),)  |   2    |\n",
      "|     55     |   311    | (array([6]),) |  (array([3]),)  |   1    |\n",
      "|     56     |   643    | (array([3]),) |  (array([5]),)  |   1    |\n",
      "|     57     |   1396   | (array([2]),) |  (array([4]),)  |   2    |\n",
      "|     58     |    10    | (array([3]),) |  (array([1]),)  |   3    |\n",
      "|     59     |   587    | (array([4]),) |  (array([3]),)  |   2    |\n",
      "|     60     |   465    | (array([4]),) |  (array([1]),)  |   2    |\n",
      "|     61     |   1742   | (array([6]),) |  (array([1]),)  |   3    |\n",
      "|     62     |   2458   | (array([1]),) |  (array([6]),)  |   2    |\n",
      "|     63     |   1357   | (array([1]),) |  (array([3]),)  |   1    |\n",
      "|     64     |   1693   | (array([6]),) |  (array([4]),)  |   1    |\n",
      "|     65     |   3231   | (array([6]),) |  (array([3]),)  |   2    |\n",
      "|     66     |   2147   | (array([6]),) |  (array([4]),)  |   1    |\n",
      "|     67     |   2551   | (array([3]),) |  (array([1]),)  |   2    |\n",
      "|     68     |   923    | (array([4]),) |  (array([3]),)  |   1    |\n",
      "|     69     |   936    | (array([5]),) |  (array([3]),)  |   1    |\n",
      "|     70     |   276    | (array([3]),) |  (array([4]),)  |   7    |\n",
      "|     71     |   984    | (array([2]),) |  (array([3]),)  |   3    |\n",
      "|     72     |   768    | (array([6]),) |  (array([1]),)  |   2    |\n",
      "|     73     |   3070   | (array([2]),) |  (array([6]),)  |   1    |\n",
      "|     74     |   3313   | (array([5]),) |  (array([4]),)  |   1    |\n",
      "|     75     |   1767   | (array([3]),) |  (array([5]),)  |   1    |\n",
      "|     76     |   1525   | (array([2]),) |  (array([6]),)  |   2    |\n",
      "|     77     |   635    | (array([5]),) |  (array([4]),)  |   2    |\n",
      "|     78     |   3080   | (array([3]),) |  (array([4]),)  |   1    |\n",
      "|     79     |    15    | (array([4]),) |  (array([5]),)  |   5    |\n",
      "|     80     |   2580   | (array([6]),) |  (array([3]),)  |   2    |\n",
      "|     81     |   951    | (array([1]),) |  (array([5]),)  |   6    |\n",
      "|     82     |   2710   | (array([4]),) |  (array([5]),)  |   1    |\n",
      "|     83     |   3245   | (array([4]),) |  (array([5]),)  |   1    |\n",
      "|     84     |   3122   | (array([2]),) |  (array([5]),)  |   1    |\n",
      "|     85     |   1982   | (array([1]),) |  (array([5]),)  |   2    |\n",
      "|     86     |   1362   | (array([4]),) |  (array([5]),)  |   5    |\n",
      "|     87     |   3139   | (array([6]),) |  (array([3]),)  |   1    |\n",
      "|     88     |   686    | (array([4]),) |  (array([3]),)  |   1    |\n",
      "|     89     |   1477   | (array([1]),) |  (array([3]),)  |   2    |\n",
      "|     90     |   825    | (array([5]),) |  (array([4]),)  |   3    |\n",
      "|     91     |   716    | (array([5]),) |  (array([2]),)  |   2    |\n",
      "|     92     |   405    | (array([5]),) |  (array([3]),)  |   5    |\n",
      "|     93     |   682    | (array([5]),) |  (array([4]),)  |   12   |\n",
      "|     94     |   3107   | (array([4]),) |  (array([6]),)  |   1    |\n",
      "|     95     |   3190   | (array([3]),) |  (array([1]),)  |   2    |\n",
      "|     96     |   304    | (array([4]),) |  (array([5]),)  |   4    |\n",
      "|     97     |   2201   | (array([3]),) |  (array([4]),)  |   2    |\n",
      "|     98     |   2784   | (array([1]),) |  (array([4]),)  |   1    |\n",
      "|     99     |   578    | (array([4]),) |  (array([5]),)  |   2    |\n",
      "|    100     |   3230   | (array([3]),) |  (array([5]),)  |   2    |\n",
      "|    101     |   2505   | (array([6]),) |  (array([1]),)  |   3    |\n",
      "|    102     |   2066   | (array([2]),) |  (array([3]),)  |   3    |\n",
      "|    103     |   847    | (array([4]),) |  (array([3]),)  |   4    |\n",
      "|    104     |   1255   | (array([5]),) |  (array([2]),)  |   1    |\n",
      "|    105     |   3010   | (array([3]),) |  (array([5]),)  |   1    |\n",
      "|    106     |   3144   | (array([6]),) |  (array([5]),)  |   1    |\n",
      "|    107     |   3054   | (array([3]),) |  (array([5]),)  |   2    |\n",
      "|    108     |   351    | (array([5]),) |  (array([4]),)  |   10   |\n",
      "|    109     |   2874   | (array([2]),) |  (array([6]),)  |   1    |\n",
      "|    110     |   2573   | (array([3]),) |  (array([4]),)  |   2    |\n",
      "|    111     |   2102   | (array([5]),) |  (array([3]),)  |   1    |\n",
      "|    112     |   361    | (array([5]),) |  (array([6]),)  |   5    |\n",
      "|    113     |   1760   | (array([3]),) |  (array([4]),)  |   3    |\n",
      "|    114     |   2984   | (array([3]),) |  (array([5]),)  |   1    |\n",
      "|    115     |   3068   | (array([3]),) |  (array([4]),)  |   1    |\n",
      "|    116     |   316    | (array([3]),) |  (array([6]),)  |   1    |\n",
      "|    117     |   517    | (array([3]),) |  (array([6]),)  |   1    |\n",
      "|    118     |   3160   | (array([6]),) |  (array([3]),)  |   1    |\n",
      "|    119     |   1850   | (array([6]),) |  (array([4]),)  |   2    |\n",
      "|    120     |   1865   | (array([4]),) |  (array([3]),)  |   1    |\n",
      "|    121     |   1801   | (array([4]),) |  (array([3]),)  |   1    |\n",
      "|    122     |   2211   | (array([2]),) |  (array([6]),)  |   1    |\n",
      "|    123     |   1187   | (array([6]),) |  (array([4]),)  |   4    |\n",
      "|    124     |   489    | (array([5]),) |  (array([6]),)  |   2    |\n",
      "|    125     |   2684   | (array([3]),) |  (array([5]),)  |   1    |\n",
      "|    126     |   234    | (array([3]),) |  (array([6]),)  |   3    |\n",
      "|    127     |   2482   | (array([4]),) |  (array([1]),)  |   1    |\n",
      "|    128     |   156    | (array([4]),) |  (array([5]),)  |   4    |\n",
      "|    129     |   195    | (array([4]),) |  (array([3]),)  |   5    |\n",
      "|    130     |   2902   | (array([6]),) |  (array([3]),)  |   1    |\n",
      "|    131     |   104    | (array([2]),) |  (array([5]),)  |   2    |\n",
      "|    132     |   2234   | (array([5]),) |  (array([3]),)  |   1    |\n",
      "|    133     |   1581   | (array([5]),) |  (array([1]),)  |   2    |\n",
      "|    134     |   302    | (array([4]),) |  (array([5]),)  |   4    |\n",
      "|    135     |   706    | (array([5]),) |  (array([3]),)  |   2    |\n",
      "|    136     |    71    | (array([2]),) |  (array([1]),)  |   6    |\n",
      "|    137     |   575    | (array([5]),) |  (array([4]),)  |   4    |\n",
      "+------------+----------+---------------+-----------------+--------+\n"
     ]
    }
   ],
   "source": [
    "#test run for one database\n",
    "#running the f1_classification to train classifier and find out the nodes \n",
    "#which are wrongly predicted with \n",
    "\n",
    "emb_loc = emb_location+'citeseer.edges_deepwalk.embeddings'\n",
    "run_embedding_classify_f1('citeseer',emb_loc,splits_ratio=[0.1])\n",
    "\n",
    "\n",
    "with open('stats_citeseer.pickle','rb') as f_emb:\n",
    "    emb1_indices,emb1_predict,emb1_label = pickle.load(f_emb)\n",
    "    \n",
    "f_emb.close()\n",
    "\n",
    "print(emb1_indices.shape)\n",
    "print(emb1_predict.shape)\n",
    "print(emb1_label.shape)\n",
    "print(\"\\n\\n\")\n",
    "\n",
    "g = nx.read_edgelist(graph_location+\"citeseer.edges\")\n",
    "\n",
    "table1 = PrettyTable(['Serial No.','Node no.','True Label','Predicted Label','Degree'])\n",
    "counter = 0\n",
    "for i in range(len(emb1_indices)):\n",
    "    if (np.array_equal(emb1_predict[i,:],emb1_label[i,:]))== False:\n",
    "        counter = counter + 1\n",
    "        table1.add_row([counter,str(emb1_indices[i]),np.nonzero(emb1_label[i,:]),np.nonzero(emb1_predict[i,:]),g.degree(str(emb1_indices[i]))])\n",
    "        \n",
    "print(table1)"
   ]
  },
  {
   "cell_type": "code",
   "execution_count": 3,
   "metadata": {},
   "outputs": [
    {
     "name": "stdout",
     "output_type": "stream",
     "text": [
      "for degree 1 total: 127 and wrong prediction: 67(52%)\n",
      "for degree 2 total: 92 and wrong prediction: 35(38%)\n",
      "for degree 3 total: 45 and wrong prediction: 14(31%)\n",
      "for degree 4 total: 30 and wrong prediction: 8(26%)\n",
      "for degree 5 total: 10 and wrong prediction: 5(50%)\n",
      "for degree 6 total: 5 and wrong prediction: 2(40%)\n",
      "for degree 7 total: 11 and wrong prediction: 3(27%)\n",
      "for degree 9 total: 3 and wrong prediction: 1(33%)\n",
      "for degree 10 total: 2 and wrong prediction: 1(50%)\n",
      "for degree 12 total: 2 and wrong prediction: 1(50%)\n"
     ]
    }
   ],
   "source": [
    "#to count number of wrongly classified nodes\n",
    "counts = dict()\n",
    "for i in range(len(emb1_indices)):\n",
    "    if (np.array_equal(emb1_predict[i,:],emb1_label[i,:]))== False:\n",
    "        degree = g.degree(str(emb1_indices[i]))\n",
    "        counts[degree] = counts.get(degree,0)+1\n",
    "        \n",
    "#for total number of nodes\n",
    "counts_total = dict()\n",
    "for i in range(len(emb1_indices)):\n",
    "    degree = g.degree(str(emb1_indices[i]))\n",
    "    counts_total[degree] = counts_total.get(degree,0)+1\n",
    "    \n",
    "    \n",
    "    \n",
    "for i in sorted(counts.keys()):\n",
    "    print(\"for degree \"+str(i)+\" total: \"+str(counts_total[i])+\" and wrong prediction: \"+ str(counts[i])+\"(\"+str(int(counts[i]/counts_total[i]*100))+\"%)\")"
   ]
  },
  {
   "cell_type": "code",
   "execution_count": 4,
   "metadata": {},
   "outputs": [
    {
     "name": "stdout",
     "output_type": "stream",
     "text": [
      "file saved\n",
      "Embedding dim: 128, graph: cora\n",
      "\n",
      "Run number 1:\n",
      "Train ratio: 0.9\n",
      "micro: 0.8376383763837638\n",
      "macro: 0.8230022432436838\n",
      "samples: 0.8376383763837638\n",
      "weighted: 0.8347950399963107\n",
      "Accuracy: 0.8376383763837638\n",
      "\n",
      "(271,)\n",
      "(271, 7)\n",
      "(271, 7)\n",
      "\n",
      "\n",
      "\n",
      "Statistics for dataset: cora\n",
      "---------------------------------\n",
      "for degree 1 total: 96 and wrong prediction: 16(16%)\n",
      "for degree 2 total: 69 and wrong prediction: 15(21%)\n",
      "for degree 3 total: 41 and wrong prediction: 4(9%)\n",
      "for degree 4 total: 17 and wrong prediction: 3(17%)\n",
      "for degree 5 total: 15 and wrong prediction: 1(6%)\n",
      "for degree 9 total: 2 and wrong prediction: 1(50%)\n",
      "for degree 11 total: 1 and wrong prediction: 1(100%)\n",
      "for degree 15 total: 3 and wrong prediction: 1(33%)\n",
      "for degree 23 total: 1 and wrong prediction: 1(100%)\n",
      "for degree 27 total: 1 and wrong prediction: 1(100%)\n"
     ]
    },
    {
     "name": "stderr",
     "output_type": "stream",
     "text": [
      "/home/sunil/anaconda3/envs/graph_tool/lib/python3.6/site-packages/sklearn/metrics/classification.py:1137: UndefinedMetricWarning: F-score is ill-defined and being set to 0.0 in labels with no true samples.\n",
      "  'recall', 'true', average, warn_for)\n"
     ]
    },
    {
     "name": "stdout",
     "output_type": "stream",
     "text": [
      "file saved\n",
      "Embedding dim: 128, graph: blogcatalog\n",
      "\n",
      "Run number 1:\n",
      "Train ratio: 0.9\n",
      "micro: 0.40735694822888285\n",
      "macro: 0.2638632029510274\n",
      "samples: 0.3959302325581396\n",
      "weighted: 0.43920250757323276\n",
      "Accuracy: 0.3168604651162791\n",
      "\n",
      "(1032,)\n",
      "(1032, 39)\n",
      "(1032, 39)\n",
      "\n",
      "\n",
      "\n",
      "Statistics for dataset: blogcatalog\n",
      "---------------------------------\n"
     ]
    },
    {
     "ename": "TypeError",
     "evalue": "'<' not supported between instances of 'DegreeView' and 'int'",
     "output_type": "error",
     "traceback": [
      "\u001b[0;31m---------------------------------------------------------------------------\u001b[0m",
      "\u001b[0;31mTypeError\u001b[0m                                 Traceback (most recent call last)",
      "\u001b[0;32m<ipython-input-4-0df9c326ec44>\u001b[0m in \u001b[0;36m<module>\u001b[0;34m()\u001b[0m\n\u001b[1;32m     42\u001b[0m \u001b[0;34m\u001b[0m\u001b[0m\n\u001b[1;32m     43\u001b[0m \u001b[0;32mfor\u001b[0m \u001b[0mdataset\u001b[0m \u001b[0;32min\u001b[0m \u001b[0mdatasets\u001b[0m\u001b[0;34m:\u001b[0m\u001b[0;34m\u001b[0m\u001b[0m\n\u001b[0;32m---> 44\u001b[0;31m     \u001b[0mnetwork_analysis\u001b[0m\u001b[0;34m(\u001b[0m\u001b[0mdataset\u001b[0m\u001b[0;34m)\u001b[0m\u001b[0;34m\u001b[0m\u001b[0m\n\u001b[0m",
      "\u001b[0;32m<ipython-input-4-0df9c326ec44>\u001b[0m in \u001b[0;36mnetwork_analysis\u001b[0;34m(dataset)\u001b[0m\n\u001b[1;32m     36\u001b[0m     \u001b[0mprint\u001b[0m\u001b[0;34m(\u001b[0m\u001b[0;34m\"---------------------------------\"\u001b[0m\u001b[0;34m)\u001b[0m\u001b[0;34m\u001b[0m\u001b[0m\n\u001b[1;32m     37\u001b[0m \u001b[0;34m\u001b[0m\u001b[0m\n\u001b[0;32m---> 38\u001b[0;31m     \u001b[0;32mfor\u001b[0m \u001b[0mi\u001b[0m \u001b[0;32min\u001b[0m \u001b[0msorted\u001b[0m\u001b[0;34m(\u001b[0m\u001b[0mcounts\u001b[0m\u001b[0;34m.\u001b[0m\u001b[0mkeys\u001b[0m\u001b[0;34m(\u001b[0m\u001b[0;34m)\u001b[0m\u001b[0;34m)\u001b[0m\u001b[0;34m:\u001b[0m\u001b[0;34m\u001b[0m\u001b[0m\n\u001b[0m\u001b[1;32m     39\u001b[0m         \u001b[0mprint\u001b[0m\u001b[0;34m(\u001b[0m\u001b[0;34m\"for degree \"\u001b[0m\u001b[0;34m+\u001b[0m\u001b[0mstr\u001b[0m\u001b[0;34m(\u001b[0m\u001b[0mi\u001b[0m\u001b[0;34m)\u001b[0m\u001b[0;34m+\u001b[0m\u001b[0;34m\" total: \"\u001b[0m\u001b[0;34m+\u001b[0m\u001b[0mstr\u001b[0m\u001b[0;34m(\u001b[0m\u001b[0mcounts_total\u001b[0m\u001b[0;34m[\u001b[0m\u001b[0mi\u001b[0m\u001b[0;34m]\u001b[0m\u001b[0;34m)\u001b[0m\u001b[0;34m+\u001b[0m\u001b[0;34m\" and wrong prediction: \"\u001b[0m\u001b[0;34m+\u001b[0m \u001b[0mstr\u001b[0m\u001b[0;34m(\u001b[0m\u001b[0mcounts\u001b[0m\u001b[0;34m[\u001b[0m\u001b[0mi\u001b[0m\u001b[0;34m]\u001b[0m\u001b[0;34m)\u001b[0m\u001b[0;34m+\u001b[0m\u001b[0;34m\"(\"\u001b[0m\u001b[0;34m+\u001b[0m\u001b[0mstr\u001b[0m\u001b[0;34m(\u001b[0m\u001b[0mint\u001b[0m\u001b[0;34m(\u001b[0m\u001b[0mcounts\u001b[0m\u001b[0;34m[\u001b[0m\u001b[0mi\u001b[0m\u001b[0;34m]\u001b[0m\u001b[0;34m/\u001b[0m\u001b[0mcounts_total\u001b[0m\u001b[0;34m[\u001b[0m\u001b[0mi\u001b[0m\u001b[0;34m]\u001b[0m\u001b[0;34m*\u001b[0m\u001b[0;36m100\u001b[0m\u001b[0;34m)\u001b[0m\u001b[0;34m)\u001b[0m\u001b[0;34m+\u001b[0m\u001b[0;34m\"%)\"\u001b[0m\u001b[0;34m)\u001b[0m\u001b[0;34m\u001b[0m\u001b[0m\n\u001b[1;32m     40\u001b[0m     \u001b[0;32mreturn\u001b[0m \u001b[0;32mNone\u001b[0m\u001b[0;34m\u001b[0m\u001b[0m\n",
      "\u001b[0;31mTypeError\u001b[0m: '<' not supported between instances of 'DegreeView' and 'int'"
     ]
    }
   ],
   "source": [
    "#writing the above code as function to take input and show the results\n",
    "\n",
    "datasets = ['cora','blogcatalog']\n",
    "\n",
    "def network_analysis(dataset):\n",
    "    emb_loc = emb_location+dataset+'.edges_deepwalk.embeddings'\n",
    "    run_embedding_classify_f1(dataset,emb_loc,splits_ratio=[0.1])\n",
    "\n",
    "    pickle_file = 'stats_'+dataset+'.pickle'\n",
    "    with open(pickle_file,'rb') as f_emb:\n",
    "        emb1_indices,emb1_predict,emb1_label = pickle.load(f_emb)\n",
    "    \n",
    "    f_emb.close()\n",
    "\n",
    "    print(emb1_indices.shape)\n",
    "    print(emb1_predict.shape)\n",
    "    print(emb1_label.shape)\n",
    "    print(\"\\n\\n\")\n",
    "\n",
    "    g = nx.read_edgelist(graph_location+\"citeseer.edges\")\n",
    "    \n",
    "    #to count number of wrongly classified nodes\n",
    "    counts = dict()\n",
    "    for i in range(len(emb1_indices)):\n",
    "        if (np.array_equal(emb1_predict[i,:],emb1_label[i,:]))== False:\n",
    "            degree = g.degree(str(emb1_indices[i]))\n",
    "            counts[degree] = counts.get(degree,0)+1\n",
    "        \n",
    "    #for total number of nodes\n",
    "    counts_total = dict()\n",
    "    for i in range(len(emb1_indices)):\n",
    "        degree = g.degree(str(emb1_indices[i]))\n",
    "        counts_total[degree] = counts_total.get(degree,0)+1\n",
    "    \n",
    "    print(f\"Statistics for dataset: {dataset}\")\n",
    "    print(\"---------------------------------\")\n",
    "    \n",
    "    for i in sorted(counts.keys()):\n",
    "        print(\"for degree \"+str(i)+\" total: \"+str(counts_total[i])+\" and wrong prediction: \"+ str(counts[i])+\"(\"+str(int(counts[i]/counts_total[i]*100))+\"%)\")\n",
    "    return None\n",
    "\n",
    "        \n",
    "for dataset in datasets:\n",
    "    network_analysis(dataset)"
   ]
  },
  {
   "cell_type": "code",
   "execution_count": null,
   "metadata": {},
   "outputs": [],
   "source": []
  },
  {
   "cell_type": "code",
   "execution_count": 1,
   "metadata": {},
   "outputs": [
    {
     "name": "stderr",
     "output_type": "stream",
     "text": [
      "/home/sunil/anaconda3/envs/graph_tool/lib/python3.6/site-packages/graph_tool/all.py:40: RuntimeWarning: Error importing draw module, proceeding nevertheless: libiconv.so.2: cannot open shared object file: No such file or directory\n",
      "  warnings.warn(msg, RuntimeWarning)\n"
     ]
    }
   ],
   "source": [
    "#next part is to visualise the graph and check which nodes are not classified accurately\n",
    "#graph can be divided into three sections: traning, predicted_right and predicted_wrong\n",
    "\n"
   ]
  },
  {
   "cell_type": "code",
   "execution_count": 6,
   "metadata": {},
   "outputs": [
    {
     "name": "stdout",
     "output_type": "stream",
     "text": [
      "CPU times: user 51.9 s, sys: 1.46 s, total: 53.4 s\n",
      "Wall time: 13.4 s\n"
     ]
    },
    {
     "data": {
      "image/png": "[encoded data removed]",
      "text/plain": [
       "<Figure size 432x288 with 1 Axes>"
      ]
     },
     "metadata": {},
     "output_type": "display_data"
    }
   ],
   "source": [
    "#this is graph_layout by networkx\n",
    "%time nx.draw(g,pos=nx.spectral_layout(g))\n"
   ]
  },
  {
   "cell_type": "code",
   "execution_count": 7,
   "metadata": {},
   "outputs": [
    {
     "name": "stderr",
     "output_type": "stream",
     "text": [
      "/home/sunil/anaconda3/envs/graph_tool/lib/python3.6/site-packages/graph_tool/all.py:40: RuntimeWarning: Error importing draw module, proceeding nevertheless: libiconv.so.2: cannot open shared object file: No such file or directory\n",
      "  warnings.warn(msg, RuntimeWarning)\n"
     ]
    }
   ],
   "source": [
    "#now plotting using graph_tool\n",
    "import matplotlib\n",
    "%matplotlib inline\n",
    "from graph_tool.all import *\n"
   ]
  },
  {
   "cell_type": "code",
   "execution_count": 12,
   "metadata": {},
   "outputs": [],
   "source": [
    "gt = Graph()\n",
    "gt = graph_tool.load_graph_from_csv(graph_location+'citeseer.edges',csv_options={'delimiter':' '})\n",
    "#graph_tool.draw.graphviz_draw(gt,pos=graph_tool.draw.(gt))"
   ]
  },
  {
   "cell_type": "code",
   "execution_count": 13,
   "metadata": {},
   "outputs": [
    {
     "data": {
      "text/plain": [
       "<PropertyMap object with key type 'Vertex' and value type 'vector<double>', for Graph 0x7f8c2aca5128, at 0x7f8c2aca5940>"
      ]
     },
     "execution_count": 13,
     "metadata": {},
     "output_type": "execute_result"
    }
   ],
   "source": [
    "graph_tool.draw.fruchterman_reingold_layout(gt,n_iter=100)"
   ]
  },
  {
   "cell_type": "code",
   "execution_count": null,
   "metadata": {},
   "outputs": [],
   "source": []
  }
 ],
 "metadata": {
  "kernelspec": {
   "display_name": "Python 3",
   "language": "python",
   "name": "python3"
  },
  "language_info": {
   "codemirror_mode": {
    "name": "ipython",
    "version": 3
   },
   "file_extension": ".py",
   "mimetype": "text/x-python",
   "name": "python",
   "nbconvert_exporter": "python",
   "pygments_lexer": "ipython3",
   "version": "3.6.4"
  }
 },
 "nbformat": 4,
 "nbformat_minor": 2
}
